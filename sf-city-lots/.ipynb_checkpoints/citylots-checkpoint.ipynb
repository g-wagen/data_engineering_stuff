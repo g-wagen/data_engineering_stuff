{
 "cells": [
  {
   "cell_type": "markdown",
   "id": "759d6c4d-729e-48b3-8d16-8d3c1f26ee31",
   "metadata": {},
   "source": [
    "# Task\n",
    "\n",
    "1. Grab the JSON file `citylots.json` from here: https://github.com/zemirco/sf-city-lots-json\n",
    "2. Provide the westernmost and easternmost coordinate of ALEMANY based on this JSON file."
   ]
  },
  {
   "cell_type": "code",
   "execution_count": 1,
   "id": "25ddba28-81c2-4d5c-a343-736902b37c9e",
   "metadata": {},
   "outputs": [],
   "source": [
    "#import sys\n",
    "\n",
    "import numpy as np\n",
    "#np.set_printoptions(threshold=sys.maxsize)\n",
    "\n",
    "import json\n",
    "\n",
    "import time"
   ]
  },
  {
   "cell_type": "markdown",
   "id": "d7899b2d-807f-4c6b-83b8-711d6b43fa08",
   "metadata": {},
   "source": [
    "Read the JSON file first. Unfortunately this is a bit slow."
   ]
  },
  {
   "cell_type": "code",
   "execution_count": 2,
   "id": "416f982d-0cad-4971-8e62-34aa1cfc2d52",
   "metadata": {
    "tags": []
   },
   "outputs": [
    {
     "name": "stdout",
     "output_type": "stream",
     "text": [
      "READING JSON FILE\n",
      "JSON FILE read in 5.676 seconds\n",
      "\n"
     ]
    }
   ],
   "source": [
    "print('READING JSON FILE')\n",
    "start = time.time()\n",
    "\n",
    "with open('citylots.json', 'r') as j:\n",
    "    json_file = json.load(j)\n",
    "\n",
    "end = time.time()\n",
    "total = end - start\n",
    "print(f'JSON FILE read in {total:.3f} seconds\\n')"
   ]
  },
  {
   "cell_type": "markdown",
   "id": "891db002-1faf-43a6-8dd2-8b9f25bfe5bd",
   "metadata": {},
   "source": [
    "# Implementation\n",
    "\n",
    "Define functions that do the job"
   ]
  },
  {
   "cell_type": "code",
   "execution_count": 3,
   "id": "8b42fd6f-1eeb-4693-9526-02fe0b93e3dd",
   "metadata": {},
   "outputs": [],
   "source": [
    "def first_code(verbose=True):\n",
    "    \"\"\"This is the first quick and dirty implementation\"\"\"\n",
    "    east = 0\n",
    "    west = 0\n",
    "\n",
    "    east_coord = None\n",
    "    west_coord = None\n",
    "\n",
    "    for f in json_file['features']:\n",
    "        street = f['properties']['STREET']\n",
    "        try:\n",
    "            coords = np.array(f['geometry']['coordinates'])[0][:,:-1]\n",
    "            lon = coords[:, 0]\n",
    "            if street == 'ALEMANY':\n",
    "                e = np.max(coords[:, 0])\n",
    "                w = np.min(coords[:, 0])\n",
    "\n",
    "                eastmost = coords[coords[:, 0] == e][0]\n",
    "                westmost = coords[coords[:, 0] == w][0]\n",
    "\n",
    "                if east == 0:\n",
    "                    east = e\n",
    "                    east_coord = eastmost\n",
    "                if west == 0:\n",
    "                    west = w\n",
    "                    west_coord = westmost\n",
    "\n",
    "                if east != 0 and e > east:\n",
    "                    east = e\n",
    "                    east_coord = eastmost\n",
    "                if west != 0 and w < west:\n",
    "                    west = w\n",
    "                    west_coord = westmost\n",
    "        except:\n",
    "            pass\n",
    "\n",
    "    if verbose:\n",
    "        print('                           Latitude / Longitude')\n",
    "        print('eastmost coordinate: ', east_coord[::-1])\n",
    "        print('westmost coordinate: ', west_coord[::-1])"
   ]
  },
  {
   "cell_type": "code",
   "execution_count": 4,
   "id": "6394fa5f-c1a6-4a5d-9c2d-d22e1184121c",
   "metadata": {},
   "outputs": [],
   "source": [
    "def second_code(verbose=True):\n",
    "    \"\"\"Not much has changed here to be honest\"\"\"\n",
    "    east = 0\n",
    "    west = 0\n",
    "\n",
    "    east_coord = None\n",
    "    west_coord = None\n",
    "\n",
    "    for f in json_file['features']:\n",
    "        street = f['properties']['STREET']\n",
    "        try:\n",
    "            coords = np.array(f['geometry']['coordinates'])[0][:,:-1]\n",
    "            if street == 'ALEMANY':            \n",
    "                e = np.max(coords[:, 0])\n",
    "                w = np.min(coords[:, 0])\n",
    "\n",
    "                eastmost = coords[coords[:, 0] == e][0]\n",
    "                westmost = coords[coords[:, 0] == w][0]\n",
    "\n",
    "                if east == 0:\n",
    "                    east = e\n",
    "                elif east != 0 and e > east:\n",
    "                    east = e\n",
    "                    east_coord = eastmost\n",
    "\n",
    "                if west == 0:\n",
    "                    west = w\n",
    "                elif west != 0 and w < west:\n",
    "                    west = w\n",
    "                    west_coord = westmost\n",
    "        except:\n",
    "            pass\n",
    "\n",
    "    if verbose:\n",
    "        print('                           Latitude / Longitude')\n",
    "        print('eastmost coordinate: ', east_coord[::-1])\n",
    "        print('westmost coordinate: ', west_coord[::-1])"
   ]
  },
  {
   "cell_type": "markdown",
   "id": "a2c0291a-5e03-4d5d-83fc-fe317966416b",
   "metadata": {},
   "source": [
    "This third variation looks different than the previous two but still relies on inefficient for loops"
   ]
  },
  {
   "cell_type": "code",
   "execution_count": 5,
   "id": "8073e6d2-f50c-4180-bba5-ab358b631ec6",
   "metadata": {},
   "outputs": [],
   "source": [
    "def third_code(verbose=True):\n",
    "    \"\"\"This one has a 'lighter' loop\"\"\"\n",
    "    all_coords = []\n",
    "\n",
    "    for f in json_file['features']:\n",
    "        street = f['properties']['STREET']\n",
    "        try:\n",
    "            coords = np.array(f['geometry']['coordinates'])[0][:,:-1]\n",
    "            if street == 'ALEMANY':\n",
    "                for c in coords:\n",
    "                    crds = [c[0], c[1]]\n",
    "                    all_coords.append(crds)\n",
    "\n",
    "        except:\n",
    "            pass\n",
    "\n",
    "    east = 0\n",
    "    west = 0\n",
    "\n",
    "    east_coord = None\n",
    "    west_coord = None\n",
    "\n",
    "    for crd in all_coords:\n",
    "        if east == 0:\n",
    "            east = crd[0]\n",
    "        elif east != 0 and crd[0] > east:\n",
    "            east = crd[0]\n",
    "            east_coord = crd\n",
    "\n",
    "        if west == 0:\n",
    "            west = crd[0]\n",
    "        elif west != 0 and crd[0] < west:\n",
    "            west = crd[0]\n",
    "            west_coord = crd\n",
    "\n",
    "    if verbose:\n",
    "        print('                           Latitude / Longitude')\n",
    "        print('eastmost coordinate: ', np.array(east_coord)[::-1])\n",
    "        print('westmost coordinate: ', np.array(west_coord)[::-1])"
   ]
  },
  {
   "cell_type": "markdown",
   "id": "4ba188c5-8c70-46b3-ba7a-5aacddcdb655",
   "metadata": {},
   "source": [
    "Let's try it again but optimize it. Less looping, more operations in parallel"
   ]
  },
  {
   "cell_type": "code",
   "execution_count": 6,
   "id": "98841e32-92b9-4f74-bc69-487977371266",
   "metadata": {},
   "outputs": [],
   "source": [
    "def fourth_code(verbose=True):\n",
    "    \"\"\"The third revision gave me the idea to remove the big loop alltogether\"\"\"\n",
    "    def get_alemany_coords(item):\n",
    "        try:\n",
    "            if item['properties']['STREET'] == 'ALEMANY':\n",
    "                c = np.array(item['geometry']['coordinates'])[0][:,:-1]\n",
    "                return c\n",
    "        except:\n",
    "            pass\n",
    "    \n",
    "    # Using map is nice\n",
    "    alemany = map(get_alemany_coords, json_file['features'])\n",
    "    alemany_array = list(alemany)\n",
    "    \n",
    "    # ... But you still find two loops in form of list comprehension here\n",
    "    remove_none = [x for x in alemany_array if x is not None]\n",
    "    b = [x for y in remove_none for x in y]\n",
    "    b = np.array(b)#.ravel()\n",
    "\n",
    "    e = np.max(b[:,0])\n",
    "    w = np.min(b[:,0])\n",
    "\n",
    "    east_coord = b[b[:, 0] == e][0]\n",
    "    west_coord = b[b[:, 0] == w][0]\n",
    "\n",
    "    if verbose:\n",
    "        print('                           Latitude / Longitude')\n",
    "        print('eastmost coordinate: ', east_coord[::-1])\n",
    "        print('westmost coordinate: ', west_coord[::-1])"
   ]
  },
  {
   "cell_type": "markdown",
   "id": "319aeb65-4383-44bd-82be-73c8c080b4e8",
   "metadata": {},
   "source": [
    "# Task solution\n",
    "\n",
    "Now let's run the functions and check their output"
   ]
  },
  {
   "cell_type": "code",
   "execution_count": 7,
   "id": "57f8ac10-2163-4925-ac1a-87e870ff2c45",
   "metadata": {},
   "outputs": [
    {
     "name": "stdout",
     "output_type": "stream",
     "text": [
      "                           Latitude / Longitude\n",
      "eastmost coordinate:  [  37.73558079 -122.40976688]\n",
      "westmost coordinate:  [  37.70988577 -122.47027026]\n",
      "                           Latitude / Longitude\n",
      "eastmost coordinate:  [  37.73558079 -122.40976688]\n",
      "westmost coordinate:  [  37.70988577 -122.47027026]\n",
      "                           Latitude / Longitude\n",
      "eastmost coordinate:  [  37.73558079 -122.40976688]\n",
      "westmost coordinate:  [  37.70988577 -122.47027026]\n",
      "                           Latitude / Longitude\n",
      "eastmost coordinate:  [  37.73558079 -122.40976688]\n",
      "westmost coordinate:  [  37.70988577 -122.47027026]\n"
     ]
    }
   ],
   "source": [
    "for func in [first_code, second_code, third_code, fourth_code]:\n",
    "    func(verbose=True)"
   ]
  },
  {
   "cell_type": "markdown",
   "id": "56f6aff2-0575-4379-920f-f92e94308877",
   "metadata": {},
   "source": [
    "# Benchmarking\n",
    "\n",
    "Let's define a function to benchmark above implementations"
   ]
  },
  {
   "cell_type": "code",
   "execution_count": 8,
   "id": "64da242a-4499-47e8-9fa8-75875570706d",
   "metadata": {},
   "outputs": [],
   "source": [
    "def speedtest(cnt, f, verbose=False):\n",
    "    print(f'Testing {f.__name__}')\n",
    "    start = time.time()\n",
    "    \n",
    "    for i in range(cnt):\n",
    "        f(verbose)\n",
    "        \n",
    "    end = time.time()\n",
    "    total = end - start\n",
    "    print(f'{cnt} iterations completed in {total:.3f} seconds\\nIteration average: {(total/cnt):.3f} seconds')"
   ]
  },
  {
   "cell_type": "markdown",
   "id": "77f8eecd-15e8-4779-9a1f-eeb70f132848",
   "metadata": {},
   "source": [
    "Benchmark all functions by executing each function 100 times while recording the total execution time and taking the average execution time."
   ]
  },
  {
   "cell_type": "code",
   "execution_count": 9,
   "id": "5480d64a-22b5-4a02-a329-99885e58e007",
   "metadata": {},
   "outputs": [
    {
     "name": "stdout",
     "output_type": "stream",
     "text": [
      "Testing first_code\n",
      "100 iterations completed in 126.444 seconds\n",
      "Iteration average: 1.264 seconds\n",
      "Testing second_code\n",
      "100 iterations completed in 122.790 seconds\n",
      "Iteration average: 1.228 seconds\n",
      "Testing third_code\n",
      "100 iterations completed in 131.128 seconds\n",
      "Iteration average: 1.311 seconds\n",
      "Testing fourth_code\n",
      "100 iterations completed in 9.856 seconds\n",
      "Iteration average: 0.099 seconds\n"
     ]
    }
   ],
   "source": [
    "for func in [first_code, second_code, third_code, fourth_code]:\n",
    "    speedtest(100, func, False)"
   ]
  },
  {
   "cell_type": "markdown",
   "id": "0015cd2b-8a95-4a40-8b19-fa8143a8d511",
   "metadata": {},
   "source": [
    "# Benchmarking result\n",
    "\n",
    "Apparently the fourth implementation is the quickest with a total time of under 10 seconds and an average execution time of around 0.1 seconds.\n",
    "It's around **12x faster** than implememtation one to three."
   ]
  },
  {
   "cell_type": "code",
   "execution_count": null,
   "id": "4fe83e13-6d13-4322-9a44-a1c3a94afa33",
   "metadata": {},
   "outputs": [],
   "source": []
  }
 ],
 "metadata": {
  "kernelspec": {
   "display_name": "Python 3",
   "language": "python",
   "name": "python3"
  },
  "language_info": {
   "codemirror_mode": {
    "name": "ipython",
    "version": 3
   },
   "file_extension": ".py",
   "mimetype": "text/x-python",
   "name": "python",
   "nbconvert_exporter": "python",
   "pygments_lexer": "ipython3",
   "version": "3.8.6"
  }
 },
 "nbformat": 4,
 "nbformat_minor": 5
}
